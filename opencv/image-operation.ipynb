{
 "metadata": {
  "language_info": {
   "codemirror_mode": {
    "name": "ipython",
    "version": 3
   },
   "file_extension": ".py",
   "mimetype": "text/x-python",
   "name": "python",
   "nbconvert_exporter": "python",
   "pygments_lexer": "ipython3",
   "version": "3.8.3-final"
  },
  "orig_nbformat": 2,
  "kernelspec": {
   "name": "python3",
   "display_name": "Python 3",
   "language": "python"
  }
 },
 "nbformat": 4,
 "nbformat_minor": 2,
 "cells": [
  {
   "source": [
    "### opencv 가져오기"
   ],
   "cell_type": "markdown",
   "metadata": {}
  },
  {
   "cell_type": "code",
   "execution_count": 2,
   "metadata": {},
   "outputs": [],
   "source": [
    "import cv2"
   ]
  },
  {
   "source": [
    "### 이미지 파일 가져오기"
   ],
   "cell_type": "markdown",
   "metadata": {}
  },
  {
   "cell_type": "code",
   "execution_count": 3,
   "metadata": {},
   "outputs": [],
   "source": [
    "img = cv2.imread('images/cat1.jpg', cv2.IMREAD_COLOR)"
   ]
  },
  {
   "source": [
    "cv2.IMREAD_COLOR : 이미지 파일을 Color로 읽어들입니다. 투명한 부분은 무시되며,        <br/>Default값입니다.\n",
    "\n",
    "cv2.IMREAD_GRAYSCALE : 이미지를 Grayscale로 읽어 들입니다. <br/>실제 이미지 처리시 중간단계로 많이 사용합니다.\n",
    "\n",
    "cv2.IMREAD_UNCHANGED : 이미지파일을 alpha channel까지 포함하여 읽어 들입니다.\n",
    "\n",
    "순서대로 숫자로 1, 0, -1 로도 사용 가능"
   ],
   "cell_type": "markdown",
   "metadata": {}
  },
  {
   "cell_type": "code",
   "execution_count": 4,
   "metadata": {},
   "outputs": [
    {
     "output_type": "execute_result",
     "data": {
      "text/plain": [
       "(1920, 1837, 3)"
      ]
     },
     "metadata": {},
     "execution_count": 4
    }
   ],
   "source": [
    "img.shape"
   ]
  },
  {
   "source": [
    "위에서 순서대로 Y축 X축 색표현값인 BGR"
   ],
   "cell_type": "markdown",
   "metadata": {}
  },
  {
   "source": [
    "### 이미지 보기"
   ],
   "cell_type": "markdown",
   "metadata": {}
  },
  {
   "cell_type": "code",
   "execution_count": 4,
   "metadata": {},
   "outputs": [],
   "source": [
    "cv2.imshow('image', img)\n",
    "cv2.waitKey(0)\n",
    "cv2.destroyAllWindows()"
   ]
  },
  {
   "source": [
    "imshow(title, image) => (윈도우 창의 타이틀, 읽어왔던 이미지)\n",
    "<br/>\n",
    "waitKey() => 키보드 입력 대기, 0이면 키 입력까지 무한대기\n",
    "<br/>\n",
    "cv2.destroyAllWindows() => 화면에 나타난 윈도우 종료"
   ],
   "cell_type": "markdown",
   "metadata": {}
  },
  {
   "source": [
    "### 이미지 저장"
   ],
   "cell_type": "markdown",
   "metadata": {}
  },
  {
   "cell_type": "code",
   "execution_count": 6,
   "metadata": {},
   "outputs": [
    {
     "output_type": "execute_result",
     "data": {
      "text/plain": [
       "True"
      ]
     },
     "metadata": {},
     "execution_count": 6
    }
   ],
   "source": [
    "gray_scale = cv2.imread('images/cat1.jpg', 0)\n",
    "cv2.imwrite('tune_image.jpg', gray_scale)"
   ]
  },
  {
   "cell_type": "code",
   "execution_count": null,
   "metadata": {},
   "outputs": [],
   "source": [
    "imwrite() => (저장할 파일 이름, 저장할 이미지)"
   ]
  },
  {
   "source": [
    "* * *"
   ],
   "cell_type": "markdown",
   "metadata": {}
  },
  {
   "source": [
    "### 영상 다루기"
   ],
   "cell_type": "markdown",
   "metadata": {}
  },
  {
   "cell_type": "code",
   "execution_count": 7,
   "metadata": {},
   "outputs": [],
   "source": [
    "import cv2\n",
    "\n",
    "# 비디오 가져오기\n",
    "cam = cv2.VideoCapture(0)\n",
    "\n",
    "# 3은 가로 4는 세로의 의미 그 뒤는 크기\n",
    "cam.set(3, 320)\n",
    "cam.set(4, 240)\n",
    "\n",
    "while(True):\n",
    "    # ret은 프레임 캡쳐 결과를 불린, frame은 캡쳐한 프레임\n",
    "    ret, frame = cam.read()\n",
    "\n",
    "    # 프레임 색깔 변경\n",
    "    if (ret):\n",
    "        gray_scale = cv2.cvtColor(frame, cv2.COLOR_BGR2GRAY)\n",
    "\n",
    "        # imshow\n",
    "        cv2.imshow('frame', gray_scale)\n",
    "\n",
    "        # q 입력시 종료\n",
    "        if cv2.waitKey(1) & 0xFF == ord('q'):\n",
    "            break\n",
    "\n",
    "# 해제\n",
    "cam.release()\n",
    "cam.destroyAllWindows()\n"
   ]
  },
  {
   "cell_type": "code",
   "execution_count": null,
   "metadata": {},
   "outputs": [],
   "source": []
  }
 ]
}