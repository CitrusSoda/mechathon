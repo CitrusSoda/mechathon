{
 "metadata": {
  "language_info": {
   "codemirror_mode": {
    "name": "ipython",
    "version": 3
   },
   "file_extension": ".py",
   "mimetype": "text/x-python",
   "name": "python",
   "nbconvert_exporter": "python",
   "pygments_lexer": "ipython3",
   "version": "3.6.9-final"
  },
  "orig_nbformat": 2,
  "kernelspec": {
   "name": "python3",
   "display_name": "Python 3",
   "language": "python"
  }
 },
 "nbformat": 4,
 "nbformat_minor": 2,
 "cells": [
  {
   "source": [
    "# 변수\n",
    "\n",
    "### 변수란 말 그대로 변하는 수\n",
    "### 프로그래밍에서는 숫자나 문자 같은 Data를 저장하는 공간을 의미합니다. "
   ],
   "cell_type": "markdown",
   "metadata": {}
  },
  {
   "cell_type": "code",
   "execution_count": 1,
   "metadata": {},
   "outputs": [],
   "source": [
    "A = 3\n",
    "B = 10000\n",
    "A = B"
   ]
  },
  {
   "source": [
    "### print A의 결과는??"
   ],
   "cell_type": "markdown",
   "metadata": {}
  },
  {
   "source": [
    "# 자료형\n",
    "\n",
    "### 숫자\n",
    "### 문자\n",
    "### 리스트\n",
    "### 튜플\n",
    "### 딕테이션\n",
    "### 불린(불리언)\n",
    "### 세트(set)"
   ],
   "cell_type": "markdown",
   "metadata": {}
  },
  {
   "source": [
    "## 숫자\n",
    "덧셈 뺄셈 곱셈 나눗셈?"
   ],
   "cell_type": "markdown",
   "metadata": {}
  },
  {
   "source": [
    "## 문자열 자료형\n",
    "\"\", '' 모두 사용 가능\n",
    "덧셈, 곱셈도 사용 가능"
   ],
   "cell_type": "markdown",
   "metadata": {}
  },
  {
   "source": [
    "## 인덱싱과 슬라이싱"
   ],
   "cell_type": "markdown",
   "metadata": {}
  },
  {
   "cell_type": "code",
   "execution_count": 2,
   "metadata": {},
   "outputs": [],
   "source": [
    "test = \"I like to play games\"\n"
   ]
  },
  {
   "source": [
    "### test\\[4], test\\[0:14], test\\[2:-1], test\\[:], test\\[::-1] 의 결과는?"
   ],
   "cell_type": "markdown",
   "metadata": {}
  },
  {
   "source": [
    "## 문자열 포맷팅"
   ],
   "cell_type": "markdown",
   "metadata": {}
  },
  {
   "cell_type": "code",
   "execution_count": 3,
   "metadata": {},
   "outputs": [],
   "source": [
    "hi1 = \"hate\"\n",
    "hi2 = \"like\"\n",
    "\n",
    "sentence1 = f\"I {hi1} you\"\n",
    "sentence2 = f\"I {hi2} you\""
   ]
  },
  {
   "source": [
    "## 리스트"
   ],
   "cell_type": "markdown",
   "metadata": {}
  },
  {
   "cell_type": "code",
   "execution_count": 4,
   "metadata": {},
   "outputs": [],
   "source": [
    "list1 = ['a', 1, 'c']"
   ]
  },
  {
   "source": [
    "### 리스트도 인덱싱, 슬라이싱 가능"
   ],
   "cell_type": "markdown",
   "metadata": {}
  },
  {
   "cell_type": "code",
   "execution_count": 5,
   "metadata": {},
   "outputs": [],
   "source": [
    "list2 = [[0,1], [2, 3], [4, 5]]"
   ]
  },
  {
   "source": [
    "### \\[4, 5]를 출력하려면?\n",
    "### 4를 출력하려면?"
   ],
   "cell_type": "markdown",
   "metadata": {}
  },
  {
   "source": [
    "## 튜플\n",
    "### 리스트는 안에있는 원소들을 변경할 수 있으나 튜플은 안됨\n",
    "### 이외엔 다 비슷하다"
   ],
   "cell_type": "markdown",
   "metadata": {}
  },
  {
   "cell_type": "code",
   "execution_count": 6,
   "metadata": {},
   "outputs": [],
   "source": [
    "tuple1 = (2, 3, 4, 5)"
   ]
  },
  {
   "source": [
    "### 슬라이싱으로 3, 4를 출력하려면?"
   ],
   "cell_type": "markdown",
   "metadata": {}
  },
  {
   "source": [
    "## 딕셔너리\n",
    "\n",
    "### {key1:value1, key2:value2...}와 같이 나타낸다"
   ],
   "cell_type": "markdown",
   "metadata": {}
  },
  {
   "source": [
    "dict1 = {1:'league of legends', 'overwatch':2, 'deeplearning':'future'}"
   ],
   "cell_type": "code",
   "metadata": {},
   "execution_count": 7,
   "outputs": []
  },
  {
   "source": [
    "### future를 출력하려면?\n",
    "### value를 출력하려면?"
   ],
   "cell_type": "markdown",
   "metadata": {}
  },
  {
   "source": [
    "\n",
    "## 세트(set)\n",
    "\n",
    "### 중복이 없다\n",
    "### 원소들간 순서가 없다 (그러므로 원소에 접근하려면 리스트나 튜플로 바꿔주어야한다)"
   ],
   "cell_type": "markdown",
   "metadata": {}
  },
  {
   "cell_type": "code",
   "execution_count": 8,
   "metadata": {},
   "outputs": [
    {
     "output_type": "stream",
     "name": "stdout",
     "text": [
      "{'a', 'b', 'n'}\n"
     ]
    }
   ],
   "source": [
    "set1 = set('banananana')\n",
    "\n",
    "print(set1)"
   ]
  },
  {
   "source": [
    "## 조건문\n",
    "\n",
    "### if, elif, else 친구들"
   ],
   "cell_type": "markdown",
   "metadata": {}
  },
  {
   "cell_type": "code",
   "execution_count": 9,
   "metadata": {},
   "outputs": [
    {
     "output_type": "stream",
     "name": "stdout",
     "text": [
      "정답입니다\n"
     ]
    }
   ],
   "source": [
    "a = int(input('숫자 맞추기'))\n",
    "\n",
    "if a > 12:\n",
    "    print('보다 작은 수')\n",
    "elif a == 12:\n",
    "    print('정답입니다')\n",
    "else:\n",
    "    print('보다 큰 수')"
   ]
  },
  {
   "source": [
    "## 반복문\n",
    "\n",
    "### while, for 친구들"
   ],
   "cell_type": "markdown",
   "metadata": {}
  },
  {
   "source": [
    "## while문"
   ],
   "cell_type": "markdown",
   "metadata": {}
  },
  {
   "cell_type": "code",
   "execution_count": 10,
   "metadata": {},
   "outputs": [
    {
     "output_type": "stream",
     "name": "stdout",
     "text": [
      "1번째 바이러스 심는중\n2번째 바이러스 심는중\n3번째 바이러스 심는중\n4번째 바이러스 심는중\n5번째 바이러스 심는중\n6번째 바이러스 심는중\n7번째 바이러스 심는중\n8번째 바이러스 심는중\n9번째 바이러스 심는중\n"
     ]
    }
   ],
   "source": [
    "i = 1\n",
    "\n",
    "while i < 10:\n",
    "    print(f'{i}번째 바이러스 심는중')\n",
    "    i += 1"
   ]
  },
  {
   "cell_type": "code",
   "execution_count": 11,
   "metadata": {},
   "outputs": [
    {
     "output_type": "stream",
     "name": "stdout",
     "text": [
      "1번째 바이러스 심는중\n2번째 바이러스 심는중\n3번째 바이러스 심는중\n4번째 바이러스 심는중\n5번째 바이러스를 심는 도중 멈추기\n"
     ]
    }
   ],
   "source": [
    "i = 1\n",
    "\n",
    "while i < 10:\n",
    "    print(f'{i}번째 바이러스 심는중')\n",
    "    i += 1\n",
    "\n",
    "    if i == 5:\n",
    "        print('5번째 바이러스를 심는 도중 멈추기')\n",
    "        break"
   ]
  },
  {
   "cell_type": "code",
   "execution_count": 12,
   "metadata": {
    "tags": []
   },
   "outputs": [
    {
     "output_type": "stream",
     "name": "stdout",
     "text": [
      "1번째 바이러스 심는중\n2번째 바이러스 심는중\n3번째 바이러스 심는중\n4번째 바이러스 심는중\n6번째 바이러스 심는중\n7번째 바이러스 심는중\n8번째 바이러스 심는중\n9번째 바이러스 심는중\n10번째 바이러스 심는중\n"
     ]
    }
   ],
   "source": [
    "i = 0\n",
    "\n",
    "while i < 10:\n",
    "    i += 1\n",
    "\n",
    "    if i == 5:\n",
    "        continue\n",
    "    \n",
    "    print(f'{i}번째 바이러스 심는중')\n"
   ]
  },
  {
   "source": [
    "## for문"
   ],
   "cell_type": "markdown",
   "metadata": {}
  },
  {
   "cell_type": "code",
   "execution_count": 13,
   "metadata": {},
   "outputs": [],
   "source": [
    "for_list = ['a', 'b', 'c']"
   ]
  },
  {
   "source": [
    "### for문을 사용하여 a b c 출력\n",
    "### for문을 사용하여 0~4의 수 출력 (range 함수 사용)"
   ],
   "cell_type": "markdown",
   "metadata": {}
  },
  {
   "source": [
    "## 함수"
   ],
   "cell_type": "markdown",
   "metadata": {}
  },
  {
   "cell_type": "code",
   "execution_count": 14,
   "metadata": {},
   "outputs": [
    {
     "output_type": "stream",
     "name": "stdout",
     "text": [
      "5\n"
     ]
    }
   ],
   "source": [
    "def sum(a, b):\n",
    "    return a + b\n",
    "\n",
    "print(sum(1, 4))"
   ]
  },
  {
   "source": [
    "### 뺄셈, 덧셈, 나눗셈?"
   ],
   "cell_type": "markdown",
   "metadata": {}
  },
  {
   "source": [
    "## 클래스"
   ],
   "cell_type": "markdown",
   "metadata": {}
  },
  {
   "cell_type": "code",
   "execution_count": 15,
   "metadata": {},
   "outputs": [
    {
     "output_type": "stream",
     "name": "stdout",
     "text": [
      "초기화\n9\n"
     ]
    }
   ],
   "source": [
    "class calculator:\n",
    "    \n",
    "    def __init__(self, num1, num2):\n",
    "        self.num1111 = num1 # 오른쪽은 넘어오는 변수 왼쪽은 클래스 내에서 사용할 변수\n",
    "        self.num2222 = num2\n",
    "        print(\"초기화\")\n",
    "\n",
    "    def add(self):\n",
    "        add = self.num1111 + self.num2222\n",
    "        return add\n",
    "\n",
    "cal = calculator(4, 5)\n",
    "print(cal.add())"
   ]
  },
  {
   "source": [
    "### 뺄셈, 곱셈, 나눗셈 만들어보기"
   ],
   "cell_type": "markdown",
   "metadata": {}
  }
 ]
}